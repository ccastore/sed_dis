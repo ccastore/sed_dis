{
 "cells": [
  {
   "cell_type": "code",
   "execution_count": 10,
   "metadata": {},
   "outputs": [],
   "source": [
    "from scripts.processing import predict, load_audio\n",
    "import onnxruntime as ort\n",
    "import matplotlib.pyplot as plt\n",
    "import numpy as np"
   ]
  },
  {
   "cell_type": "code",
   "execution_count": 5,
   "metadata": {},
   "outputs": [],
   "source": [
    "model_type=\"YOLO\" #select model YOLO / CRNN\n",
    "providers=['CPUExecutionProvider']\n",
    "\n",
    "if model_type==\"YOLO\":\n",
    "  ort_sess = ort.InferenceSession('models/YOLOv5n.onnx', providers=providers)\n",
    "elif model_type==\"CRNN\":\n",
    "  ort_sess = ort.InferenceSession('models/CRNN.onnx',providers=providers)"
   ]
  },
  {
   "cell_type": "code",
   "execution_count": 11,
   "metadata": {},
   "outputs": [
    {
     "name": "stdout",
     "output_type": "stream",
     "text": [
      "[array([1.61659801, 4.22585249, 0.        , 0.93429101]), array([8.28870296, 9.18547153, 2.        , 0.89694166])]\n"
     ]
    }
   ],
   "source": [
    "th=0.3 #Threshold of the confidence of the prediction\n",
    "Audio_dir = \"samples/0.wav\" #Audio to predict\n",
    "dir_audio=Audio_dir\n",
    "sr=16000\n",
    "audio=load_audio(dir_audio,sr)\n",
    "classes=[\"Horn\",\"Siren\",\"Pets\",\"Physiological\",\"Speech\",\"RingTone\",\"Vibrating\",\"Notifications\",\"Cry\"] #List of predictions\n",
    "p,_=predict(audio, ort_sess,model_type,th) #Do the prediction\n",
    "print(p)"
   ]
  }
 ],
 "metadata": {
  "kernelspec": {
   "display_name": "tensor",
   "language": "python",
   "name": "python3"
  },
  "language_info": {
   "codemirror_mode": {
    "name": "ipython",
    "version": 3
   },
   "file_extension": ".py",
   "mimetype": "text/x-python",
   "name": "python",
   "nbconvert_exporter": "python",
   "pygments_lexer": "ipython3",
   "version": "3.10.14"
  }
 },
 "nbformat": 4,
 "nbformat_minor": 2
}
