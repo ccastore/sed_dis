{
 "cells": [
  {
   "cell_type": "code",
   "execution_count": 1,
   "metadata": {},
   "outputs": [],
   "source": [
    "import onnxruntime as ort\n",
    "import datetime\n",
    "import time\n",
    "import numpy as np\n",
    "from onnxruntime import GraphOptimizationLevel\n",
    "import os\n",
    "from scripts.processing import predict, load_audio\n",
    "import psutil\n",
    "import tqdm\n"
   ]
  },
  {
   "cell_type": "code",
   "execution_count": 2,
   "metadata": {},
   "outputs": [],
   "source": [
    "model_type=\"YOLO\" #select model YOLO / CRNN\n",
    "providers=['CPUExecutionProvider']\n",
    "quantize=\"_mixed\" #_orinigal, _pruned_01, _pruned_001, quantized_int8, quantized_int8_d\n",
    "reduction=\"True\"\n",
    "\n",
    "if reduction:\n",
    "  opt_options = ort.SessionOptions()\n",
    "  opt_options.graph_optimization_level = GraphOptimizationLevel.ORT_ENABLE_EXTENDED\n",
    "\n",
    "\n",
    "if model_type==\"YOLO\":\n",
    "  ort_sess = ort.InferenceSession('models/YOLOv5n'+quantize+'.onnx', opt_options, providers=providers)\n",
    "  th=0.2 #Threshold of the confidence of the prediction\n",
    "elif model_type==\"CRNN\":\n",
    "  ort_sess = ort.InferenceSession('models/CRNN'+quantize+'.onnx', opt_options,providers=providers)\n",
    "  th=0.5 #Threshold of the confidence of the prediction\n",
    "\n",
    "classes=[\"Horn\",\"Siren\",\"Pets\",\"Physiological\",\"Speech\",\"RingTone\",\"Vibrating\",\"Notifications\",\"Cry\"] #List of predictions\n",
    "sr=16000\n"
   ]
  },
  {
   "cell_type": "code",
   "execution_count": 3,
   "metadata": {},
   "outputs": [
    {
     "name": "stdout",
     "output_type": "stream",
     "text": [
      "[array([0.        , 3.14102564, 3.        , 0.51371366]), array([5.51282051, 5.96153846, 3.        , 0.51371366]), array([ 7.82051282, 10.        ,  3.        ,  0.51371366]), array([4.74358974, 5.51282051, 4.        , 0.24481095]), array([2.69230769, 3.07692308, 6.        , 0.39921179]), array([5.76923077, 7.94871795, 6.        , 0.39921179]), array([9.23076923, 9.35897436, 6.        , 0.39921179])]\n"
     ]
    }
   ],
   "source": [
    "files=os.listdir(\"samples\")\n",
    "files=np.random.choice(files,180)"
   ]
  },
  {
   "cell_type": "code",
   "execution_count": null,
   "metadata": {},
   "outputs": [],
   "source": [
    "times=[]\n",
    "for file in tqdm.tqdm(files):\n",
    "  inicio=datetime.datetime.now()\n",
    "  dir_audio=\"samples/\"+file\n",
    "  audio=load_audio(dir_audio,sr) \n",
    "  fin=inicio=datetime.datetime.now()\n",
    "  delay=10-(fin-inicio).total_seconds()\n",
    "  time.sleep(delay)\n",
    "  fin=datetime.datetime.now() \n",
    "\n",
    "  p_complete,t=predict(audio, ort_sess,model_type,th)\n",
    "  process = psutil.Process(os.getpid())\n",
    "  memory = process.memory_info().rss / float(2 ** 20)\n",
    "  cpu_percent = psutil.cpu_percent(interval=None)\n",
    "  cpu_percent =f\"{cpu_percent:.2f}\"\n",
    "  temp_info = psutil.sensors_temperatures()\n",
    "  if \"coretemp\" in temp_info:\n",
    "    core_temps = temp_info[\"coretemp\"]\n",
    "    avg_temp = sum(sensor.current for sensor in core_temps) / len(core_temps)\n",
    "    temp_info=f\"{avg_temp:.2f}\"\n",
    "  else:\n",
    "    temp_info=-1\n",
    "\n",
    "  mel_time=float(str((t[0][2]-t[0][1])).split(\":\")[-1])\n",
    "  preprocessing_time=float(str((t[1][2]-t[1][1])).split(\":\")[-1])\n",
    "  inference_time=float(str((t[2][2]-t[2][1])).split(\":\")[-1])\n",
    "  postprocessing_time=float(str((t[3][2]-t[3][1])).split(\":\")[-1])\n",
    "  times.append([mel_time,preprocessing_time,inference_time,postprocessing_time, memory,cpu_percent,temp_info])\n",
    "\n",
    "np.save(model_type+quantize+\"_times.npy\",np.array(times))"
   ]
  }
 ],
 "metadata": {
  "kernelspec": {
   "display_name": "tensor",
   "language": "python",
   "name": "python3"
  },
  "language_info": {
   "codemirror_mode": {
    "name": "ipython",
    "version": 3
   },
   "file_extension": ".py",
   "mimetype": "text/x-python",
   "name": "python",
   "nbconvert_exporter": "python",
   "pygments_lexer": "ipython3",
   "version": "3.10.14"
  }
 },
 "nbformat": 4,
 "nbformat_minor": 2
}
