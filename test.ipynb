{
 "cells": [
  {
   "cell_type": "code",
   "execution_count": 1,
   "metadata": {},
   "outputs": [],
   "source": [
    "from scripts.processing import predict, load_audio\n",
    "import onnxruntime as ort\n",
    "import matplotlib.pyplot as plt\n",
    "import numpy as np\n",
    "import librosa as lb\n",
    "import matplotlib.pyplot as plt\n"
   ]
  },
  {
   "cell_type": "code",
   "execution_count": 2,
   "metadata": {},
   "outputs": [],
   "source": [
    "model_type=\"CRNN\" #select model YOLO / CRNN\n",
    "providers=['CPUExecutionProvider']\n",
    "\n",
    "if model_type==\"YOLO\":\n",
    "  ort_sess = ort.InferenceSession('models/YOLOv5n.onnx', providers=providers)\n",
    "elif model_type==\"CRNN\":\n",
    "  ort_sess = ort.InferenceSession('models/CRNN.onnx',providers=providers)"
   ]
  },
  {
   "cell_type": "code",
   "execution_count": 3,
   "metadata": {},
   "outputs": [
    {
     "name": "stdout",
     "output_type": "stream",
     "text": [
      "[array([0.        , 3.14102564, 3.        , 0.51371366]), array([5.51282051, 5.96153846, 3.        , 0.51371366]), array([ 7.82051282, 10.        ,  3.        ,  0.51371366]), array([4.74358974, 5.51282051, 4.        , 0.24481095]), array([2.69230769, 3.07692308, 6.        , 0.39921179]), array([5.76923077, 7.94871795, 6.        , 0.39921179]), array([9.23076923, 9.35897436, 6.        , 0.39921179])]\n"
     ]
    }
   ],
   "source": [
    "th=0.2 #Threshold of the confidence of the prediction\n",
    "Audio_dir = \"samples/grabacion_mic0_0.wav\" #Audio to predict\n",
    "dir_audio=Audio_dir\n",
    "sr=16000\n",
    "audio=load_audio(dir_audio,sr)\n",
    "classes=[\"Horn\",\"Siren\",\"Pets\",\"Physiological\",\"Speech\",\"RingTone\",\"Vibrating\",\"Notifications\",\"Cry\"] #List of predictions\n",
    "p,_=predict(audio, ort_sess,model_type,th) #Do the prediction\n",
    "print(p)"
   ]
  }
 ],
 "metadata": {
  "kernelspec": {
   "display_name": "tensor",
   "language": "python",
   "name": "python3"
  },
  "language_info": {
   "codemirror_mode": {
    "name": "ipython",
    "version": 3
   },
   "file_extension": ".py",
   "mimetype": "text/x-python",
   "name": "python",
   "nbconvert_exporter": "python",
   "pygments_lexer": "ipython3",
   "version": "3.10.14"
  }
 },
 "nbformat": 4,
 "nbformat_minor": 2
}
